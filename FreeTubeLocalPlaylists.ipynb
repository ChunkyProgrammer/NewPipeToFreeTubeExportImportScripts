{
 "cells": [
  {
   "cell_type": "code",
   "execution_count": null,
   "id": "sized-rescue",
   "metadata": {},
   "outputs": [],
   "source": [
    "import json"
   ]
  },
  {
   "cell_type": "code",
   "execution_count": null,
   "id": "sunrise-watts",
   "metadata": {},
   "outputs": [],
   "source": [
    "from pathlib import Path"
   ]
  },
  {
   "cell_type": "code",
   "execution_count": null,
   "id": "illegal-queensland",
   "metadata": {},
   "outputs": [],
   "source": [
    "from dataclasses import dataclass"
   ]
  },
  {
   "cell_type": "code",
   "execution_count": null,
   "id": "varied-london",
   "metadata": {},
   "outputs": [],
   "source": [
    "import sqlite3"
   ]
  },
  {
   "cell_type": "code",
   "execution_count": null,
   "id": "threaded-sharp",
   "metadata": {},
   "outputs": [],
   "source": [
    "import uuid"
   ]
  },
  {
   "cell_type": "code",
   "execution_count": null,
   "id": "going-tongue",
   "metadata": {},
   "outputs": [],
   "source": [
    "def VideoParametersToDictonary( videoId : str, title : str, author : str, authorId : str, \n",
    "                isLive : bool = False, published : str = \"\", viewCount : int = 0, \n",
    "                lengthSeconds : int = 0, timeAdded : int = 0, paid : bool = False, \n",
    "                contentType : str = \"video\" ):\n",
    "    return {\n",
    "        \"videoId\" : videoId, \n",
    "        \"title\" : title, \n",
    "        \"author\" : author, \n",
    "        \"authorId\" : authorId, \n",
    "        \"isLive\" : isLive, \n",
    "        \"published\" : published, \n",
    "        \"viewCount\" : viewCount, \n",
    "        \"lengthSeconds\" : lengthSeconds, \n",
    "        \"timeAdded\" : timeAdded, \n",
    "        \"paid\" : paid, \n",
    "        \"type\" : contentType \n",
    "    }"
   ]
  },
  {
   "cell_type": "code",
   "execution_count": null,
   "id": "competent-veteran",
   "metadata": {},
   "outputs": [],
   "source": [
    "def PlaylistToDict( playlistName : str, _id : str, videos : [] ): \n",
    "    return { \n",
    "        \"playlistName\" : playlistName, \n",
    "        \"videos\" : videos, \n",
    "        \"_id\" : _id\n",
    "    }"
   ]
  },
  {
   "cell_type": "code",
   "execution_count": null,
   "id": "acceptable-victoria",
   "metadata": {},
   "outputs": [],
   "source": [
    "@dataclass\n",
    "class NewPipeVideo: \n",
    "    videoUrl : str\n",
    "    videoTitle : str\n",
    "    author : str\n",
    "    authorId: str\n",
    "\n",
    "@dataclass\n",
    "class NewPipePlaylist: \n",
    "    playlistId : str\n",
    "    playlistName : str\n",
    "    videos : list[ Video ]"
   ]
  },
  {
   "cell_type": "code",
   "execution_count": null,
   "id": "vertical-contributor",
   "metadata": {},
   "outputs": [],
   "source": [
    "def ReadNewPipeData( databasePath ):\n",
    "    with sqlite3.connect( databasePath ) as connection: \n",
    "        cursor = connection.cursor()\n",
    "        authorIds = {}\n",
    "        for row in cursor.execute( \"SELECT * FROM subscriptions\" ).fetchall(): \n",
    "            authorIds[ row[ 3 ] ] = row[ 2 ]\n",
    "        streams = {}\n",
    "        for row in cursor.execute( \"SELECT * FROM streams\" ).fetchall(): \n",
    "            streams[ row[ 0 ] ] = row\n",
    "        playlistCursor = cursor.execute( \"SELECT * FROM playlists\" ).fetchall()\n",
    "        playlistData = {}\n",
    "        for row in playlistCursor: \n",
    "            playlistData[ row[ 0 ] ] = NewPipePlaylist( row[ 0 ], row[ 1 ], [] )\n",
    "        for row in cursor.execute( \"SELECT * FROM playlist_stream_join\" ).fetchall(): \n",
    "            stream = streams[ row[ 1 ] ]\n",
    "            author = stream[ 6 ]\n",
    "            authorId = authorIds[ author ] if author in authorIds else \"\"\n",
    "            playlistData[ row[ 0 ] ].videos.append( NewPipeVideo( stream[ 2 ], stream[ 3 ], author, authorId ) )\n",
    "        cursor.close()\n",
    "        return playlistData"
   ]
  },
  {
   "cell_type": "code",
   "execution_count": null,
   "id": "appropriate-underwear",
   "metadata": {},
   "outputs": [],
   "source": [
    "newPipePath = Path.cwd().parent / \"TestData\" / \"NewPipeData-20210824_180145\" / \"newpipe.db\""
   ]
  },
  {
   "cell_type": "code",
   "execution_count": null,
   "id": "minus-confusion",
   "metadata": {},
   "outputs": [],
   "source": [
    "ReadNewPipeData( str( newPipePath ) )"
   ]
  },
  {
   "cell_type": "code",
   "execution_count": null,
   "id": "simple-dinner",
   "metadata": {},
   "outputs": [],
   "source": [
    "uuid.uuid4().hex"
   ]
  },
  {
   "cell_type": "code",
   "execution_count": null,
   "id": "accurate-patrol",
   "metadata": {},
   "outputs": [],
   "source": [
    "@dataclass\n",
    "class FreeTubeVideo: \n",
    "    videoId : str\n",
    "    videoTitle : str\n",
    "    author : str\n",
    "    authorId: str\n",
    "\n",
    "@dataclass\n",
    "class FreeTubePlaylist: \n",
    "    playlistId : str\n",
    "    playlistName : str\n",
    "    videos : list[ Video ]"
   ]
  },
  {
   "cell_type": "code",
   "execution_count": null,
   "id": "minimal-vintage",
   "metadata": {},
   "outputs": [],
   "source": [
    "YOUTUBE_VIDEO_ID_PREFIX_CONSTANT = \"https://www.youtube.com/watch?v=\""
   ]
  },
  {
   "cell_type": "code",
   "execution_count": null,
   "id": "instant-keyboard",
   "metadata": {},
   "outputs": [],
   "source": [
    "YOUTUBE_AUTHOR_ID_PREFIX_CONSTANT = \"https://www.youtube.com/channel/\""
   ]
  },
  {
   "cell_type": "code",
   "execution_count": null,
   "id": "prescribed-rapid",
   "metadata": {},
   "outputs": [],
   "source": [
    "def NewPipeVideoToFreeTubeVideo( video : NewPipeVideo ): \n",
    "    return FreeTubeVideo( \n",
    "            video.videoUrl.replace( YOUTUBE_VIDEO_ID_PREFIX_CONSTANT, \"\" ), \n",
    "            video.videoTitle, \n",
    "            video.author, \n",
    "            video.authorId.replace( YOUTUBE_AUTHOR_ID_PREFIX_CONSTANT, \"\" )\n",
    "    )"
   ]
  },
  {
   "cell_type": "code",
   "execution_count": null,
   "id": "competitive-healing",
   "metadata": {},
   "outputs": [],
   "source": [
    "NewPipeVideoToFreeTubeVideo( ReadNewPipeData( str( newPipePath ) )[ 1 ].videos[ 0 ] )"
   ]
  },
  {
   "cell_type": "code",
   "execution_count": null,
   "id": "southeast-screen",
   "metadata": {},
   "outputs": [],
   "source": [
    "def NewPipePlaylistToFreeTubePlaylist( playlist : NewPipePlaylist, freeTubePlaylistId = uuid.uuid4().hex ):\n",
    "    return FreeTubePlaylist( \n",
    "        freeTubePlaylistId, \n",
    "        playlist.playlistName, \n",
    "        [ NewPipeVideoToFreeTubeVideo( video ) \n",
    "                 for video in playlist.videos ]\n",
    "    )\n"
   ]
  },
  {
   "cell_type": "code",
   "execution_count": null,
   "id": "refined-pharmacology",
   "metadata": {},
   "outputs": [],
   "source": [
    "freeTubePlaylists = []\n",
    "newPipeData = ReadNewPipeData( str( newPipePath ) )\n",
    "for playlistId in newPipdData: \n",
    "    freeTubePlaylists.append( \n",
    "            NewPipePlaylistToFreeTubePlaylist( \n",
    "                    newPipeData[ playlistId ] ) )"
   ]
  },
  {
   "cell_type": "code",
   "execution_count": null,
   "id": "raised-costa",
   "metadata": {},
   "outputs": [],
   "source": [
    "freeTubePlaylists"
   ]
  },
  {
   "cell_type": "code",
   "execution_count": null,
   "id": "acceptable-electronics",
   "metadata": {},
   "outputs": [],
   "source": [
    "def FreeTubePlaylistToJSON( playlist ):\n",
    "    return PlaylistToDict( \n",
    "            playlist.playlistName, \n",
    "            playlist.playlistId, \n",
    "            [\n",
    "                    VideoParametersToDictonary( \n",
    "                            video.videoId, \n",
    "                            video.videoTitle, \n",
    "                            video.author, \n",
    "                            video.authorId \n",
    "                    ) for video in playlist.videos\n",
    "            ]\n",
    "    )"
   ]
  },
  {
   "cell_type": "code",
   "execution_count": null,
   "id": "visible-lawrence",
   "metadata": {},
   "outputs": [],
   "source": [
    "def FreeTubePlaylistsToJSON( freeTubePlaylists : [] ):\n",
    "    database = \"\"\n",
    "    for playlist in freeTubePlaylists:\n",
    "        database += json.dumps( FreeTubePlaylistToJSON( playlist ) ) + \"\\n\"\n",
    "    return database"
   ]
  },
  {
   "cell_type": "code",
   "execution_count": null,
   "id": "happy-provincial",
   "metadata": {},
   "outputs": [],
   "source": [
    "FreeTubePlaylistsToJSON( freeTubePlaylists )"
   ]
  },
  {
   "cell_type": "code",
   "execution_count": null,
   "id": "lesser-kennedy",
   "metadata": {},
   "outputs": [],
   "source": [
    "def NewPipePlaylistsToFreeTubePlaylists( newPipePlaylistsPath, freeTubePlaylistDatabasePath ):\n",
    "    freeTubePlaylists = []\n",
    "    newPipeData = ReadNewPipeData( str( newPipePlaylistsPath ) )\n",
    "    for playlistId in newPipdData: \n",
    "        freeTubePlaylists.append( \n",
    "                NewPipePlaylistToFreeTubePlaylist( \n",
    "                        newPipeData[ playlistId ] ) )\n",
    "    freeTubeJSON = FreeTubePlaylistsToJSON( freeTubePlaylists )\n",
    "    with open( str( freeTubePlaylistDatabasePath ), 'a' ) as playlistDatabase: \n",
    "        playlistDatabase.writelines( freeTubeJSON )\n",
    "    return freeTubeJSON\n"
   ]
  },
  {
   "cell_type": "code",
   "execution_count": null,
   "id": "lovely-repair",
   "metadata": {},
   "outputs": [],
   "source": [
    "TEST_DATA_PATH_CONSTANT = Path.cwd().parent / \"TestData\""
   ]
  },
  {
   "cell_type": "code",
   "execution_count": null,
   "id": "strategic-amsterdam",
   "metadata": {},
   "outputs": [],
   "source": [
    "NewPipePlaylistsToFreeTubePlaylists( \n",
    "        TEST_DATA_PATH_CONSTANT / \"NewPipeData-20210824_180145\" / \"newpipe.db\", \n",
    "        TEST_DATA_PATH_CONSTANT / \"FreeTubeDB\" / \"playlistsTest.db\" \n",
    ")"
   ]
  },
  {
   "cell_type": "code",
   "execution_count": null,
   "id": "emerging-draft",
   "metadata": {},
   "outputs": [],
   "source": [
    "@dataclass\n",
    "class NewPipeSubscription:\n",
    "    serviceId : int\n",
    "    channelName : str\n",
    "    url : str\n",
    "\n",
    "def ObtainNewPipeSubscriptionData( databasePath ):\n",
    "    authorIds = []\n",
    "    with sqlite3.connect( str( databasePath ) ) as connection: \n",
    "        cursor = connection.cursor()\n",
    "        for row in cursor.execute( \"SELECT * FROM subscriptions\" ).fetchall(): \n",
    "            authorIds.append( NewPipeSubscription( row[ 1 ], row[ 3 ], row[ 2 ] ) )\n",
    "        cursor.close()\n",
    "    return authorIds"
   ]
  },
  {
   "cell_type": "code",
   "execution_count": null,
   "id": "selective-convertible",
   "metadata": {},
   "outputs": [],
   "source": [
    "def WriteNewPipeSubscriptionList( newPipeSubscriptionData : [], \n",
    "        appVersion : str = \"0.19.8\", \n",
    "        appVersionInteger : int = 953 ): \n",
    "    return {\n",
    "        \"app_version\" : appVersion, \n",
    "        \"app_version_int\" : appVersionInteger, \n",
    "        \"subscriptions\" : [ \n",
    "                    { \n",
    "                        \"service_id\" : subscription.serviceId, \n",
    "                        \"url\" : subscription.url,\n",
    "                        \"name\" : subscription.channelName\n",
    "                    }\n",
    "                    for subscription in newPipeSubscriptionData\n",
    "        ]\n",
    "    }"
   ]
  },
  {
   "cell_type": "code",
   "execution_count": null,
   "id": "tutorial-boutique",
   "metadata": {},
   "outputs": [],
   "source": [
    "def MakeNewPipeSubscriptionJsonromDatabase( databasePath ):\n",
    "    return json.dumps( \n",
    "            WriteNewPipeSubscriptionList( \n",
    "                    ObtainNewPipeSubscriptionData( databasePath )\n",
    "            )\n",
    "    )"
   ]
  },
  {
   "cell_type": "code",
   "execution_count": null,
   "id": "unsigned-imaging",
   "metadata": {},
   "outputs": [],
   "source": [
    "MakeNewPipeSubscriptionJSONFromDatabase( TEST_DATA_PATH_CONSTANT / \"NewPipeData-20210824_180145\" / \"newpipe.db\" )"
   ]
  },
  {
   "cell_type": "code",
   "execution_count": null,
   "id": "latter-dating",
   "metadata": {},
   "outputs": [],
   "source": [
    "def MakeNewPipeSubscriptionJsonFileFromDatabase( databasePath, newJsonFilePath ):\n",
    "    jsonData = MakeNewPipeSubscriptionJsonromDatabase( databasePath )\n",
    "    with open( str( newJsonFilePath ), 'w' ) as file:\n",
    "        file.writelines( jsonData )\n",
    "    return jsonData"
   ]
  },
  {
   "cell_type": "code",
   "execution_count": null,
   "id": "confident-circuit",
   "metadata": {},
   "outputs": [],
   "source": [
    "MakeNewPipeSubscriptionJsonFileFromDatabase( \n",
    "        TEST_DATA_PATH_CONSTANT / \"NewPipeData-20210824_180145\" / \"newpipe.db\", \n",
    "        TEST_DATA_PATH_CONSTANT / \"NewPipeSubscriptions\" / \"subscriptions.json\" )"
   ]
  },
  {
   "cell_type": "code",
   "execution_count": null,
   "id": "beautiful-ordinance",
   "metadata": {},
   "outputs": [],
   "source": [
    "def NewPipeSubscriptionListToFreeTubeSubscritionList( newPipeSubscriptionData : [], \n",
    "        profileName : str = \"NewPipe Subscriptions\", \n",
    "        backgroundColor : str = \"#FF6D00\", \n",
    "        textColor : str = \"#FFFFFF\" ): \n",
    "    return {\n",
    "        \"name\" : profileName, \n",
    "        \"bgColor\" : backgroundColor, \n",
    "        \"textColor\" : textColor, \n",
    "        \"subscriptions\" : [ \n",
    "                    { \n",
    "                        \"id\" : subscription.url.replace( YOUTUBE_AUTHOR_ID_PREFIX_CONSTANT, \"\" ),\n",
    "                        \"name\" : subscription.channelName,\n",
    "                        \"thumbnail\" : \"\"\n",
    "                    }\n",
    "                    for subscription in newPipeSubscriptionData\n",
    "        ]\n",
    "    }\n"
   ]
  },
  {
   "cell_type": "code",
   "execution_count": null,
   "id": "baking-thanksgiving",
   "metadata": {},
   "outputs": [],
   "source": [
    "def MakeNewPipeSubscriptionToFreePipeDatabase( newPipeDatabasePath, freePipeDatabase ):\n",
    "    jsonData = json.dumps( NewPipeSubscriptionListToFreeTubeSubscritionList( \n",
    "                ObtainNewPipeSubscriptionData( newPipeDatabasePath ) ) )\n",
    "    with open( str( freePipeDatabase ), 'a' ) as file:\n",
    "        file.writelines( jsonData )\n",
    "    return jsonData"
   ]
  },
  {
   "cell_type": "code",
   "execution_count": null,
   "id": "black-staff",
   "metadata": {},
   "outputs": [],
   "source": [
    "MakeNewPipeSubscriptionToFreePipeDatabase( \n",
    "        TEST_DATA_PATH_CONSTANT / \"NewPipeData-20210824_180145\" / \"newpipe.db\", \n",
    "        TEST_DATA_PATH_CONSTANT / \"FreeTubeDB\" / \"profilesTest.db\" \n",
    ")"
   ]
  },
  {
   "cell_type": "code",
   "execution_count": null,
   "id": "alleged-trigger",
   "metadata": {},
   "outputs": [],
   "source": []
  }
 ],
 "metadata": {
  "kernelspec": {
   "display_name": "Python 3",
   "language": "python",
   "name": "python3"
  },
  "language_info": {
   "codemirror_mode": {
    "name": "ipython",
    "version": 3
   },
   "file_extension": ".py",
   "mimetype": "text/x-python",
   "name": "python",
   "nbconvert_exporter": "python",
   "pygments_lexer": "ipython3",
   "version": "3.9.2"
  }
 },
 "nbformat": 4,
 "nbformat_minor": 5
}
